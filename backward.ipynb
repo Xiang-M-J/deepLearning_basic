{
 "cells": [
  {
   "attachments": {},
   "cell_type": "markdown",
   "metadata": {},
   "source": [
    "$$\n",
    "z=\\frac{(x_1+2)^2+(x_2+2)^2}{2}\n",
    "$$ <br>\n",
    "求导：\n",
    "$$\n",
    "\\frac{ \\partial z }{ \\partial {x_1} }=x_1+2\n",
    "$$\n",
    "$$\n",
    "\\frac{ \\partial z }{ \\partial {x_2} }=x_2+2\n",
    "$$"
   ]
  },
  {
   "cell_type": "code",
   "execution_count": 1,
   "metadata": {},
   "outputs": [
    {
     "name": "stdout",
     "output_type": "stream",
     "text": [
      "tensor([3., 4.])\n"
     ]
    }
   ],
   "source": [
    "import torch\n",
    "x = torch.tensor([1.0,2.0],requires_grad=True)\n",
    "z = torch.mean((x + 2)**2)\n",
    "z.backward()\n",
    "print(x.grad)\n"
   ]
  },
  {
   "attachments": {},
   "cell_type": "markdown",
   "metadata": {},
   "source": [
    "`backward(-1)`相当于将损失乘以-1"
   ]
  },
  {
   "cell_type": "code",
   "execution_count": 2,
   "metadata": {},
   "outputs": [
    {
     "name": "stdout",
     "output_type": "stream",
     "text": [
      "tensor([-3., -4.])\n"
     ]
    }
   ],
   "source": [
    "x = torch.tensor([1.0,2.0],requires_grad=True)\n",
    "z = torch.mean((x+2)**2)\n",
    "mone = -1 * torch.tensor(1, dtype=torch.float)\n",
    "z.backward(mone)\n",
    "print(x.grad)"
   ]
  }
 ],
 "metadata": {
  "kernelspec": {
   "display_name": "Python 3",
   "language": "python",
   "name": "python3"
  },
  "language_info": {
   "codemirror_mode": {
    "name": "ipython",
    "version": 3
   },
   "file_extension": ".py",
   "mimetype": "text/x-python",
   "name": "python",
   "nbconvert_exporter": "python",
   "pygments_lexer": "ipython3",
   "version": "3.7.9"
  },
  "orig_nbformat": 4
 },
 "nbformat": 4,
 "nbformat_minor": 2
}
