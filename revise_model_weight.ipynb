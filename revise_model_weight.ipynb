{
 "cells": [
  {
   "cell_type": "code",
   "execution_count": 27,
   "metadata": {},
   "outputs": [],
   "source": [
    "import torch\n",
    "import torch.nn as nn\n",
    "\n",
    "class simpleModel(nn.Module):\n",
    "    def __init__(self) -> None:\n",
    "        super(simpleModel, self).__init__()\n",
    "        self.conv = nn.Conv2d(1, 1, 1)\n",
    "        self.bn = nn.BatchNorm2d(1)\n",
    "        self.act = nn.ReLU()\n",
    "    \n",
    "    def forward(self, x):\n",
    "        x = self.conv(x)\n",
    "        x = self.bn(x)\n",
    "        x = self.act(x)\n",
    "        return x\n"
   ]
  },
  {
   "cell_type": "code",
   "execution_count": 30,
   "metadata": {},
   "outputs": [
    {
     "name": "stdout",
     "output_type": "stream",
     "text": [
      "src model:\n",
      "Parameter containing:\n",
      "tensor([[[[-0.1107]]]], requires_grad=True)\n",
      "tgt model:\n",
      "Parameter containing:\n",
      "tensor([[[[0.0794]]]], requires_grad=True)\n",
      "修改后：\n",
      "Parameter containing:\n",
      "tensor([[[[0.0684]]]], requires_grad=True)\n"
     ]
    }
   ],
   "source": [
    "src = simpleModel()\n",
    "tgt = simpleModel()\n",
    "scale = torch.tensor(0.1, dtype=torch.float32)\n",
    "\n",
    "src_dict = src.state_dict()\n",
    "tgt_dict = tgt.state_dict()\n",
    "new_tgt = simpleModel()\n",
    "print(\"src model:\")\n",
    "print(src.conv.weight)\n",
    "print(\"tgt model:\")\n",
    "print(tgt.conv.weight)\n",
    "\n",
    "param_new = {}\n",
    "with torch.no_grad():\n",
    "    for key in tgt_dict.keys():\n",
    "        if key.split('.')[-1] == \"weight\" or key.split('.')[-1] == \"bias\":\n",
    "            param_new[key] = tgt_dict[key] + scale * src_dict[key]\n",
    "        else:\n",
    "            param_new[key] = tgt_dict[key]\n",
    "\n",
    "new_tgt.load_state_dict(param_new)\n",
    "print(\"修改后：\")\n",
    "print(new_tgt.conv.weight)"
   ]
  }
 ],
 "metadata": {
  "kernelspec": {
   "display_name": "Python 3",
   "language": "python",
   "name": "python3"
  },
  "language_info": {
   "codemirror_mode": {
    "name": "ipython",
    "version": 3
   },
   "file_extension": ".py",
   "mimetype": "text/x-python",
   "name": "python",
   "nbconvert_exporter": "python",
   "pygments_lexer": "ipython3",
   "version": "3.7.9"
  },
  "orig_nbformat": 4
 },
 "nbformat": 4,
 "nbformat_minor": 2
}
