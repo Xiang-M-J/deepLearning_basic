{
 "cells": [
  {
   "attachments": {},
   "cell_type": "markdown",
   "metadata": {},
   "source": [
    "LSTM实现"
   ]
  },
  {
   "cell_type": "code",
   "execution_count": 1,
   "metadata": {},
   "outputs": [
    {
     "name": "stdout",
     "output_type": "stream",
     "text": [
      "torch.Size([100, 4, 256])\n",
      "torch.Size([4, 256])\n",
      "torch.Size([4, 256])\n"
     ]
    }
   ],
   "source": [
    "import torch\n",
    "import torch.nn as nn\n",
    "\n",
    "class lstm_m(nn.Module):\n",
    "    def __init__(self, input_size, hidden_size) -> None:\n",
    "        super(lstm_m, self).__init__()\n",
    "        # input_sz 输入的数组长度\n",
    "        self.input_size = input_size\n",
    "        # hidden_sz cell_state和hidden_state长度\n",
    "        self.hidden_size = hidden_size\n",
    "\n",
    "        self.Wii = nn.Linear(in_features=input_size, out_features=hidden_size)\n",
    "        self.Whi = nn.Linear(in_features=hidden_size, out_features=hidden_size)\n",
    "        self.Wif = nn.Linear(in_features=input_size, out_features=hidden_size)\n",
    "        self.Whf = nn.Linear(in_features=hidden_size, out_features=hidden_size)\n",
    "        self.Wig = nn.Linear(in_features=input_size, out_features=hidden_size)\n",
    "        self.Whg = nn.Linear(in_features=hidden_size, out_features=hidden_size)\n",
    "        self.Wio = nn.Linear(in_features=input_size, out_features=hidden_size)\n",
    "        self.Who = nn.Linear(in_features=hidden_size, out_features=hidden_size)\n",
    "        \n",
    "    def forward(self, x):\n",
    "        batch_size = x.shape[0]\n",
    "        ht = torch.rand([batch_size, self.hidden_size])\n",
    "        ct = torch.rand([batch_size, self.hidden_size])\n",
    "        output = []\n",
    "        for i in range(x.shape[1]):\n",
    "            xt = x[:, i,:]\n",
    "            it = torch.sigmoid(self.Wii(xt)+self.Whi(ht))\n",
    "            ft = torch.sigmoid(self.Wif(xt)+self.Whi(ht))\n",
    "            gt = torch.tanh(self.Wig(xt)+self.Whg(ht))\n",
    "            ot = torch.sigmoid(self.Wio(xt)+self.Who(ht))\n",
    "            ct = ft*ct + it*gt\n",
    "            ht = ot * torch.sigmoid(ct)\n",
    "            output.append(ht)\n",
    "        lstm_output = torch.cat(output, dim=1)\n",
    "        lstm_output = lstm_output.view(-1, output[0].shape[0], output[0].shape[1])\n",
    "        return lstm_output, (ht, ct)\n",
    "x = torch.rand([4, 100, 128])\n",
    "model = lstm_m(128, 256)\n",
    "output, (hn, cn) = model(x)\n",
    "print(output.shape)\n",
    "print(hn.shape)\n",
    "print(cn.shape)"
   ]
  },
  {
   "attachments": {},
   "cell_type": "markdown",
   "metadata": {},
   "source": [
    "nn.Linear: $y = xA^T+b$"
   ]
  },
  {
   "cell_type": "code",
   "execution_count": 3,
   "metadata": {},
   "outputs": [
    {
     "name": "stdout",
     "output_type": "stream",
     "text": [
      "torch.Size([20, 10])\n",
      "torch.Size([20])\n",
      "tensor(0., grad_fn=<SumBackward0>)\n"
     ]
    }
   ],
   "source": [
    "layer = nn.Linear(10,20)\n",
    "print(layer.weight.shape)\n",
    "print(layer.bias.shape)\n",
    "w = torch.rand(20,10)\n",
    "b = torch.rand(20)\n",
    "layer.weight = torch.nn.Parameter(w)\n",
    "layer.bias = torch.nn.Parameter(b)\n",
    "x = torch.rand(4,10)\n",
    "y1 = layer(x)\n",
    "y2 = x @ w.T + b\n",
    "print(torch.sum(torch.abs(y1-y2)))"
   ]
  },
  {
   "attachments": {},
   "cell_type": "markdown",
   "metadata": {},
   "source": [
    "基于注意力的LSTM"
   ]
  },
  {
   "cell_type": "code",
   "execution_count": 5,
   "metadata": {},
   "outputs": [
    {
     "name": "stdout",
     "output_type": "stream",
     "text": [
      "torch.Size([16, 100, 256])\n",
      "torch.Size([1, 16, 256])\n",
      "torch.Size([1, 16, 256])\n"
     ]
    }
   ],
   "source": [
    "x = torch.rand([16, 100, 128])  # batch_size=16, seq_len=100, feature_dim=128\n",
    "lstm = nn.LSTM(128, 256, batch_first=True)  # input_size=128, hidden_size=256\n",
    "w_omiga = torch.randn(16, 256, 1, requires_grad=True)\n",
    "output, (hn, cn) = lstm(x)\n",
    "print(output.shape) # [batch_size, seq_len, hidden_size]\n",
    "print(hn.shape)     # [1, batch_size, hidden_size]\n",
    "print(cn.shape)     # [1, batch_size, hidden_size]\n",
    "\n",
    "# 1 用输出作为query，随机初始化矩阵作为key\n",
    "# H = torch.tanh(output)  # [batch_size, seq_len, hidden_size]\n",
    "# attn_weight = torch.softmax(torch.bmm(H, w_omiga), dim=1)   # [batch_size, seq_len, 1]\n",
    "# output = torch.mul(output, attn_weight)     # 加权后的输出 [batch_size, seq_len, hidden_size]\n",
    "# output = output.sum(dim=1)                  # [batch_size, hidden_size]\n",
    "\n",
    "# 2 用输出作为query, hn作为key\n",
    "attn_weight = torch.softmax(torch.bmm(output, hn.permute(1,2,0)), dim=1) # [batch_size, seq_len, 1]\n",
    "output = torch.mul(output, attn_weight)\n",
    "output = output.sum(dim=1)\n"
   ]
  }
 ],
 "metadata": {
  "kernelspec": {
   "display_name": "Python 3",
   "language": "python",
   "name": "python3"
  },
  "language_info": {
   "codemirror_mode": {
    "name": "ipython",
    "version": 3
   },
   "file_extension": ".py",
   "mimetype": "text/x-python",
   "name": "python",
   "nbconvert_exporter": "python",
   "pygments_lexer": "ipython3",
   "version": "3.7.9"
  },
  "orig_nbformat": 4
 },
 "nbformat": 4,
 "nbformat_minor": 2
}
