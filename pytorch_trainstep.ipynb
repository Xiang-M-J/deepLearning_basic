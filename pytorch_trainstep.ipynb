{
 "cells": [
  {
   "cell_type": "code",
   "execution_count": 1,
   "metadata": {},
   "outputs": [
    {
     "name": "stdout",
     "output_type": "stream",
     "text": [
      "-->name: l.weight\n",
      "-->para: Parameter containing:\n",
      "tensor([[-0.2236,  0.2460,  0.1775, -0.0706],\n",
      "        [-0.4351,  0.2742,  0.1009, -0.4755]], requires_grad=True)\n",
      "-->grad_requires: True\n",
      "-->grad_value: None\n",
      "===\n",
      "-->name: l.weight\n",
      "-->para: Parameter containing:\n",
      "tensor([[-0.2246,  0.2450,  0.1765, -0.0716],\n",
      "        [-0.4341,  0.2752,  0.1019, -0.4745]], requires_grad=True)\n",
      "-->grad_requires: True\n",
      "-->grad_value: tensor([[ 0.0226,  0.0026,  0.0528,  0.0205],\n",
      "        [-0.0226, -0.0026, -0.0528, -0.0205]])\n",
      "===\n",
      "-->name: l.weight\n",
      "-->para: Parameter containing:\n",
      "tensor([[-0.2256,  0.2440,  0.1755, -0.0726],\n",
      "        [-0.4331,  0.2762,  0.1029, -0.4735]], requires_grad=True)\n",
      "-->grad_requires: True\n",
      "-->grad_value: tensor([[ 0.0223,  0.0022,  0.0523,  0.0201],\n",
      "        [-0.0223, -0.0022, -0.0523, -0.0201]])\n",
      "===\n"
     ]
    }
   ],
   "source": [
    "import torch\n",
    "import torch.nn as nn\n",
    "\n",
    "\n",
    "def print_(model):\n",
    "    for name, params in model.named_parameters():\n",
    "        print('-->name:', name)\n",
    "        print('-->para:', params)\n",
    "        print('-->grad_requires:', params.requires_grad)\n",
    "        print('-->grad_value:', params.grad)\n",
    "        print(\"===\")\n",
    "\n",
    "class simpleModel(nn.Module):\n",
    "    def __init__(self):\n",
    "        super(simpleModel, self).__init__()\n",
    "        self.l = nn.Linear(4,2, bias=False)\n",
    "    def forward(self,x):\n",
    "        x = self.l(x)\n",
    "        return x\n",
    "\n",
    "def train_step(model, optimizer, x, y):     # 即使没有回传损失仍然可以对模型进行梯度下降并参数更新\n",
    "    out = model(x)\n",
    "    loss = torch.nn.CrossEntropyLoss()(out, y)\n",
    "    optimizer.zero_grad()\n",
    "    loss.backward()\n",
    "    optimizer.step()\n",
    "\n",
    "x = torch.rand([4,4])\n",
    "y = torch.rand([4,2])\n",
    "model = simpleModel()\n",
    "print_(model)\n",
    "optimizer = torch.optim.Adam(model.parameters(), lr=1e-3)\n",
    "train_step(model, optimizer, x,y)\n",
    "print_(model)\n",
    "\n",
    "train_step(model, optimizer, x, y)\n",
    "print_(model)"
   ]
  }
 ],
 "metadata": {
  "kernelspec": {
   "display_name": "Python 3",
   "language": "python",
   "name": "python3"
  },
  "language_info": {
   "codemirror_mode": {
    "name": "ipython",
    "version": 3
   },
   "file_extension": ".py",
   "mimetype": "text/x-python",
   "name": "python",
   "nbconvert_exporter": "python",
   "pygments_lexer": "ipython3",
   "version": "3.7.9"
  },
  "orig_nbformat": 4
 },
 "nbformat": 4,
 "nbformat_minor": 2
}
